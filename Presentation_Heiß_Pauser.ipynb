{
 "cells": [
  {
   "cell_type": "markdown",
   "metadata": {},
   "source": [
    "# Presentation - Working with branches, 'merge' and 'rebase'\n",
    "\n",
    "21.03.2025\n",
    "\n",
    "**Laura Heiß, Isabella Pauser**"
   ]
  },
  {
   "cell_type": "markdown",
   "metadata": {},
   "source": [
    "**1. Very briefly, demonstrate the contribution of your group members to the repository https://github.com/jdblischak/git-for-science (03-exercise-sheet.ipynb: ex. 4, Contribute to an open-source project)**\n",
    "\n",
    "4  Contribute to an open-source project\n",
    "\n",
    "*Make a small contribution to an open-source project, as described in the section \"Contribute to Other Projects\" and Fig. 4 of the paper \"A Quick Introduction to Version Control with Git and GitHub\", Blischak et al., 2016:*\n",
    "\n",
    "\"We would like you to add an empty file that is named after your GitHub username to the repo used to write this manuscript.\n",
    "\n",
    "- Using your internet browser, navigate to https://github.com/jdblischak/git-for-science.\n",
    "- Click on the “Fork” button to create a copy of this repo on GitHub under your username.\n",
    "- On your computer, type git clone https://github.com/<username>/git-for-science.git, which will create a copy of git-for-science on your local machine.\n",
    "    - git clone https://github.com/heisslaura/git-for-science.git\n",
    "\n",
    "- Navigate to the readers directory by typing cd git-for-science/readers/. Create an empty file that is titled with your GitHub username by typing touch <username>.txt. Commit that new file by adding it to the staging area (git add <username>.txt) and committing with a message (git commit -m \"Add username to directory of readers.\").\n",
    "    - touch heisslaura.txt\n",
    "    - git add -A\n",
    "    - git commit -m \"Add heisslaura to directory of readers.\"\n",
    "\n",
    "- You have committed your new file locally, and the next step is to push that new commit up to the git-for-science repo under your username on GitHub. To do so, type git push origin master.\n",
    "    - git push origin master\n",
    "\n",
    "- To request to add your commits to the original (\"upstream\") git-for-science repo, issue a pull request from the git-for-science repo under your username on GitHub. Once your Pull Request is reviewed and accepted, you will be able to see the file you committed with your username in the original git-for-science repository.\n",
    "    - on the website of Github issue the pull request "
   ]
  },
  {
   "cell_type": "markdown",
   "metadata": {},
   "source": [
    "![Screenshot_Contribution.png)](Screenshot_Contribution.png)"
   ]
  },
  {
   "cell_type": "markdown",
   "metadata": {},
   "source": [
    "**2. Very briefly, demonstrate your repository with some of your scripts and cheatsheets, including the best-practices-cheatsheet in markdown format and a cheatsheet with git commands (03-exercise-sheet.ipynb: ex. 3, Create a GitHub repository for your scripts)**\n",
    "\n",
    "- https://github.com/heisslaura/useful-scripts"
   ]
  },
  {
   "cell_type": "markdown",
   "metadata": {},
   "source": [
    "**3. Present the topic which was assigned to your group.**\n",
    "\n",
    "**How does branching work?** \n",
    "\n",
    "A branch represents an independent line of development. Branches serve as an abstraction for the edit/stage/commit process. You can think of them as a way to request a brand new working directory, staging area, and project history. New commits are recorded in the history for the current branch, which results in a fork in the history of the project.\n",
    "\n",
    "**Common git commands**\n",
    "\n",
    "- List all of the branches in your repository: ```git branch``` (same as ```git branch --list```)\n",
    "- Create a new branch (does not check out the new branch): ```git branch <branch>```\n",
    "- Delete a specified branch: ```git branch -d <branch>``` (\"safe\" operation in that Git prevents you from deleting the branch if it has unmerged changes)\n",
    "- Force delete a specified branch: ```git branch -D <branch>``` (use if you want to permanently throw away all of the commits associated with a particular line of development)\n",
    "- Rename the current branch: ```git branch -m <branch>```\n",
    "\n",
    "**Creating branches**\n",
    "\n",
    "*What is a branch?*\n",
    "\n",
    "A branch in Git is a separate line of development in your project.\n",
    "\n",
    "Branches allow you to:\n",
    "- Work on new features without affecting the ```main```branch\n",
    "- Experiment with changes safely\n",
    "- merge or delete branch after testing \n",
    "\n",
    "Creating a local branch\n",
    "1. Run the following command to check your existing branches: ```git branch```\n",
    "2. To create a new branch, use following command: ```git branch <branch>```\n",
    "3. Switch to the new branch using the following command: ```git checkout <branch>```\n",
    "3. Verify your actions: ```git branch```\n",
    "    - You should see\n",
    "        - main\n",
    "        - '*' feature-branch\n",
    "4. Now, push the new branch to Github: ```git push -u origin <branch>```\n",
    "    - After this, ```git push```and ```git pull```will automatically know where to send/fetch changes"
   ]
  },
  {
   "cell_type": "markdown",
   "metadata": {},
   "source": [
    "**What is 'rebase'?**\n",
    "\n",
    "Git rebase is an alternative to merge that integrates changes from one branch into another. Unlike merging, which creates a new commit combining histories, rebasing moves the entire branch to a new starting point, making the commit history linear.\n",
    "\n",
    "*When to use rebase?*\n",
    "- To keep a clean, linear history (especially in feature branches)\n",
    "- When you want to update your branch with the latest changes from the ```main``` before merging. \n",
    "- To resolve conflics interactively before integrating changes.\n",
    "- Use rebase when your branch is behind ```main``` and you want to put your changes on top. \n",
    "\n",
    "*Use case*\n",
    "\n",
    "Basic Git Rebase\n",
    "\n",
    "Imagine you are working on a feature branch (```feature branch```) and ```main``` has been updated. Instead of merging, you want to rebase your work on top of the latest ```main```.\n",
    "\n",
    "Steps\n",
    "- Switch to your feature branch: ```git checkout -b feature-branch```\n",
    "- Make some changes to the notebook (i.e. add a small statement like \"Testing the rebase function\"), then add and commit the modifications. \n",
    "- Switch back to the main branch: ```git checkout main```.\n",
    "- Push the changes made on the feature-branch on top of the main branch: ```git rebase feature-branch```. \n",
    "\n",
    "What happens?\n",
    "- the latest ```main``` changes are applied first.\n",
    "- Your commits are re-applied on top of the latest ```main```.\n",
    "\n"
   ]
  },
  {
   "cell_type": "markdown",
   "metadata": {},
   "source": [
    "Testing the rebase function"
   ]
  },
  {
   "cell_type": "markdown",
   "metadata": {},
   "source": [
    "# Git Merge vs. Rebase \n",
    "\n",
    "**Conceptual Overview**  \n",
    "\n",
    "Both `git merge` and `git rebase` are used to integrate changes from one branch into another, but they handle commit history differently.  \n",
    "\n",
    "When working on a **feature branch**, new commits added to `main` by a teammate create a **forked history**. If these updates are relevant to your work, you can integrate them using either:  \n",
    "- **Merging**: Preserves history with a merge commit.  \n",
    "- **Rebasing**: Moves the feature branch onto `main` for a linear history.  \n",
    "\n",
    "---"
   ]
  },
  {
   "cell_type": "markdown",
   "metadata": {},
   "source": [
    "# Merge\n",
    "\n",
    "The easiest way to integrate changes is to merge the main branch into the feature branch:\n",
    "\n",
    "`git checkout feature`\n",
    "\n",
    "`git merge main`\n",
    "\n",
    "or as a one-liner:\n",
    "\n",
    "`git merge feature main`\n",
    "\n",
    "This creates a new merge commit in the feature branch that ties together both branches' histories.\n",
    "\n",
    "**Pros of Merging**\n",
    "- Non-destructive – existing branches remain unchanged.\n",
    "- Preserves full history, making it easy to track branch integration.\n",
    "\n",
    "**Cons of Merging**\n",
    "- Creates extra merge commits, cluttering history if main is updated frequently.\n",
    "- If main is very active, the feature branch history can become harder to follow.\n",
    "\n",
    "---\n"
   ]
  },
  {
   "cell_type": "markdown",
   "metadata": {},
   "source": [
    "# Rebase (Repetition)\n",
    "**How Rebase Works**\n",
    "An alternative to merging is rebasing the feature branch onto main:\n",
    "\n",
    "`git checkout feature`\n",
    "\n",
    "`git rebase main`\n",
    "\n",
    "Instead of creating a merge commit, rebasing moves the entire feature branch to start at the latest commit on main, incorporating all new commits from main along the way.\n",
    "\n",
    "**Pros of Rebasing**\n",
    "-\tCreates a cleaner project history – no unnecessary merge commits.\n",
    "-\t Maintains a perfectly linear history, making it easier to navigate with git log, git bisect, and gitk.\n",
    "-\tEasier debugging – allows following the tip of the feature branch back to the beginning of the project without forks.\n",
    "\n",
    "**Cons of Rebasing**\n",
    "-\tHistory rewriting – rebase alters commit history, which can be risky.\n",
    "-\tLoses merge commit context, making it harder to track when changes were introduced.\n",
    "-\t Risky for public branches – violating the Golden Rule of Rebasing (never rebase a shared branch) can disrupt collaboration, as others may still be working with the original main history.\n",
    "\n",
    "---"
   ]
  },
  {
   "cell_type": "markdown",
   "metadata": {},
   "source": [
    "# Use Cases: When to Use Merge vs. Rebase\n",
    "**1. Incorporating Upstream Changes into a Feature Branch**\n",
    "\n",
    "A feature branch can integrate updates from main using either method:\n",
    "-\t**Merging:** Preserves the full commit history with a merge commit.\n",
    "-\t**Rebasing:** Moves the feature branch onto the latest main, keeping history linear.\n",
    "\n",
    "Rebasing is also useful when collaborating on the same feature with another developer. Instead of merging, you can rebase onto a remote branch (e.g., another developer’s feature branch) to integrate their changes while keeping the history clean.\n",
    "By default, git pull performs a merge, but you can use git pull --rebase to integrate remote updates with a rebase instead.\n"
   ]
  },
  {
   "cell_type": "markdown",
   "metadata": {},
   "source": [
    "**2. Reviewing a Feature with a Pull Request**\n",
    "When using pull requests for code reviews:\n",
    "\n",
    "-\tAvoid using git rebase after creating the pull request – rebasing rewrites history, making it difficult for teammates to track follow-up commits.\n",
    "-\tInstead, merge changes from main to maintain a stable history.\n",
    "-\tBest practice: Use interactive rebase (git rebase -i main) before submitting the pull request to clean up commit history before it becomes public.\n"
   ]
  },
  {
   "cell_type": "markdown",
   "metadata": {},
   "source": [
    "**3. Integrating an Approved Feature**\n",
    "\n",
    "Once a feature is approved:\n",
    "1.\tRebase it onto the latest main before merging to ensure a fast-forward merge and keep history clean.\n",
    "2.\tUse git merge to finalize the integration, since main history cannot be rewritten.\n",
    "3.\tRebasing before merging helps eliminate unnecessary commits, including follow-up changes made during the pull request.\n",
    "\n",
    "***Safe Rebase Approach (Using a Temporary Branch):***\n",
    "\n",
    "If you're unsure about rebasing, create a temporary branch:\n",
    "\n",
    "`git checkout feature`\n",
    "\n",
    "`git checkout -b temporary-branch`\n",
    "\n",
    "`git rebase -i main`  # Clean up history\n",
    "\n",
    "`git checkout main`\n",
    "\n",
    "`git merge temporary-branch`\n",
    "\n",
    "This allows you to safely test the rebase before modifying your original feature branch.\n"
   ]
  },
  {
   "cell_type": "markdown",
   "metadata": {},
   "source": [
    "- Also, create a public gist in markdown format with the most important information from your presentation, as a short summary/handout for other students.\n",
    "\n",
    "https://gist.github.com/heisslaura/d24821628787181c7a4d1e0c16229359 "
   ]
  }
 ],
 "metadata": {
  "language_info": {
   "name": "python"
  }
 },
 "nbformat": 4,
 "nbformat_minor": 2
}

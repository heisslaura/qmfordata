{
 "cells": [
  {
   "cell_type": "markdown",
   "metadata": {},
   "source": [
    "# Presentation - Working with branches, 'merge' and 'rebase'\n",
    "\n",
    "21.03.2025\n",
    "\n",
    "**Laura Heiß, Isabella Pauser**"
   ]
  },
  {
   "cell_type": "markdown",
   "metadata": {},
   "source": [
    "**How does branching work?** \n",
    "\n",
    "A branch represents an independent line of development. Branches serve as an abstraction for the edit/stage/commit process. You can think of them as a way to request a brand new working directory, staging area, and project history. New commits are recorded in the history for the current branch, which results in a fork in the history of the project.\n",
    "\n",
    "**Common git commands**\n",
    "\n",
    "- List all of the branches in your repository: ```git branch``` (same as ```git branch --list```)\n",
    "- Create a new branch (does not check out the new branch): ```git branch <branch>```\n",
    "- Delete a specified branch: ```git branch -d <branch>``` (\"safe\" operation in that Git prevents you from deleting the branch if it has unmerged changes)\n",
    "- Force delete a specified branch: ```git branch -D <branch>``` (use if you want to permanently throw away all of the commits associated with a particular line of development)\n",
    "- Rename the current branch: ```git branch -m <branch>```\n",
    "\n",
    "**Creating branches**\n",
    "\n",
    "*What is a branch?*\n",
    "\n",
    "A branch in Git is a separate line of development in your project.\n",
    "\n",
    "Branches allow you to:\n",
    "- Work on new features without affecting the ```main```branch\n",
    "- Experiment with changes safely\n",
    "- merge or delete branch after testing \n",
    "\n",
    "Creating a local branch\n",
    "1. Run the following command to check your existing branches: ```git branch```\n",
    "2. To create a new branch, use following command: ```git branch <branch>```\n",
    "3. Switch to the new branch using the following command: ```git checkout <branch>```\n",
    "3. Verify your actions: ```git branch```\n",
    "    - You should see\n",
    "        - main\n",
    "        - '*' feature-branch\n",
    "4. Now, push the new branch to Github: ```git push -u origin <branch>```\n",
    "    - After this, ```git push```and ```git pull```will automatically know where to send/fetch changes"
   ]
  },
  {
   "cell_type": "markdown",
   "metadata": {},
   "source": [
    "**What is 'rebase'?**\n",
    "\n",
    "Git rebase is an alternative to merge that integrates changes from one branch into another. Unlike merging, which creates a new commit combining histories, rebasing moves the entire branch to a new starting point, making the commit history linear.\n",
    "\n",
    "*When to use rebase?*\n",
    "- To keep a clean, linear history (especially in feature branches)\n",
    "- When you want to update your branch with the latest changes from the ```main``` before merging. \n",
    "- To resolve conflics interactively before integrating changes.\n",
    "- Use rebase when your branch is behind ```main``` and you want to put your changes on top. \n",
    "\n",
    "*Use case*\n",
    "\n",
    "Basic Git Rebase\n",
    "\n",
    "Imagine you are working on a feature branch (```feature branch```) and ```main``` has been updated. Instead of merging, you want to rebase your work on top of the latest ```main```.\n",
    "\n",
    "Steps\n",
    "- Switch to your feature branch: ```git checkout -b feature-branch```\n",
    "- Make some changes to the notebook (i.e. add a small statement like \"Testing the rebase function\"), then add and commit the modifications. \n",
    "- Switch back to the main branch: ```git checkout main```.\n",
    "- Push the changes made on the feature-branch on top of the main branch: ```git rebase feature-branch```. \n",
    "\n",
    "What happens?\n",
    "- the latest ```main``` changes are applied first.\n",
    "- Your commits are re-applied on top of the latest ```main```.\n",
    "\n"
   ]
  }
 ],
 "metadata": {
  "language_info": {
   "name": "python"
  }
 },
 "nbformat": 4,
 "nbformat_minor": 2
}

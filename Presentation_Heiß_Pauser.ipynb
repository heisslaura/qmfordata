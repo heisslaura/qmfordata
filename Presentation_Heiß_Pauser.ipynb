{
 "cells": [
  {
   "cell_type": "markdown",
   "metadata": {},
   "source": [
    "# Presentation - Working with branches, 'merge' and 'rebase'\n",
    "\n",
    "21.03.2025\n",
    "\n",
    "**Laura Heiß, Isabella Pauser**"
   ]
  }
 ],
 "metadata": {
  "language_info": {
   "name": "python"
  }
 },
 "nbformat": 4,
 "nbformat_minor": 2
}

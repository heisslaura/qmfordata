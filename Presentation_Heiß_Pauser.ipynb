{
 "cells": [
  {
   "cell_type": "markdown",
   "metadata": {},
   "source": [
    "# Presentation - Working with branches, 'merge' and 'rebase'\n",
    "\n",
    "21.03.2025\n",
    "\n",
    "**Laura Heiß, Isabella Pauser**"
   ]
  },
  {
   "cell_type": "markdown",
   "metadata": {},
   "source": [
    "**How does branching work?** \n",
    "\n",
    "A branch represents an independent line of development. Branches serve as an abstraction for the edit/stage/commit process. You can think of them as a way to request a brand new working directory, staging area, and project history. New commits are recorded in the history for the current branch, which results in a fork in the history of the project.\n",
    "\n",
    "**Common git commands**\n",
    "\n",
    "- List all of the branches in your repository: ```git branch``` (same as ```git branch --list```)\n",
    "- Create a new branch (does not check out the new branch): ```git branch <branch>```\n",
    "- Delete a specified branch: ```git branch -d <branch>``` (\"safe\" operation in that Git prevents you from deleting the branch if it has unmerged changes)\n",
    "- Force delete a specified branch: ```git branch -D <branch>``` (use if you want to permanently throw away all of the commits associated with a particular line of development)\n",
    "- Delete a remote branch: ```git push origin --delete <branch>```\n",
    "- Rename the current branch: ```git branch -m <branch>```\n",
    "- List all remote branches: ```git branch -a```\n",
    "\n",
    "**Creating local branches**\n",
    "\n",
    "*What is a local branch?*\n",
    "\n",
    "A local branch in Git is a separate line of development in your project that exists only on your computer until you push it to a remote repo. \n",
    "\n",
    "Local branches allow you to:\n",
    "- Work on new features without affecting the ```main```branch\n",
    "- Experiment with changes safely\n",
    "- merge or delete branch after testing \n",
    "\n",
    "Creating a local branch\n",
    "1. Run the following command to check your existing branches: ```git branch```\n",
    "2. To create a new branch, use following command: ```git branch feature-branch```\n",
    "3. Switch to the new branch using the following command: ```git checkout feature-branch```\n",
    "3. Verify your actions: ```git branch```\n",
    "    - You should see\n",
    "        - main\n",
    "        - '*' feature-branch\n",
    "\n",
    "Branches are just pointers to commits. When you create a branch all Git needs to do is create a new pointer, it doesn't change the repository in any other way. Let's imagine we have a repository that looks like this: "
   ]
  },
  {
   "cell_type": "markdown",
   "metadata": {},
   "source": [
    "![Creating_branches_01](Creating_branches_01.png)"
   ]
  },
  {
   "cell_type": "markdown",
   "metadata": {},
   "source": [
    "Now, we create a new branch using the following command ```git branch crazy-experiement```"
   ]
  },
  {
   "cell_type": "markdown",
   "metadata": {},
   "source": [
    "![Creating_branches_02](Creating_branches_02.png)"
   ]
  },
  {
   "cell_type": "markdown",
   "metadata": {},
   "source": [
    "The repository history remains unchanged. \n",
    "\n",
    "The used command also only created the new branch, it does not automatically checkout of the main branch you have been in before. Check this with the command ```git branch```. The terminal will provide the branches that exist and have a * before the branch you are in. \n",
    "To switch branches you need to select it with ```git checkout crazy-experiment```. Now you can start adding commits to it using the standard commands. "
   ]
  },
  {
   "cell_type": "markdown",
   "metadata": {},
   "source": [
    "**Creating remote branches**\n",
    "\n",
    "*What is a remote branch?*\n",
    "\n",
    "A remote branch ist a branch stored on a remote repo (e.g. Github) that  multiple collaborators can access. When you push a branch to Github, it becomes available to others. \n",
    "\n",
    "Remote branches allow you to: \n",
    "- Collaborate - work together with others\n",
    "- Backup - Prevent local data loss\n",
    "- Synchronization - Pull updated\n",
    "\n",
    "Creating a remote branch (from local to Github)\n",
    "1. Run the following command to check your existing branches: ```git branch```\n",
    "2. To create a new branch and automatically switch to it, use following command: ```git checkout -b feature-branch```\n",
    "3. Verify your actions: ```git branch```\n",
    "    - You should see\n",
    "        - main\n",
    "        - '*' feature-branch\n",
    "4. Now, push the new branch to Github: ```git push -u origin feature-branch```\n",
    "    - -u links your local branch to the remote branch \n",
    "    - After this, ```git push```and ```git pull```will automatically know where to send/fetch changes\n",
    "5. Verify your actions with: ```git branch -r````\n",
    "    - You should see\n",
    "        - origin/main\n",
    "        - origin/feature-branch\n",
    "\n",
    "Creating remote branches when you created the repo only locally\n",
    "1. Create a new repo locally: ```mkdir myproject```\n",
    "2. Navigate to the new directory: ```cd myproject```\n",
    "3. Initialize git: ```git init```\n",
    "4. Create a new branch and automatically switch to it: ```git checkout -b crazy-experiment```\n",
    "5. Go to Github and create new repository (e.g. myproject)\n",
    "6. Add the Github repo as a new remote: ```git remote add new-remote-repo https://github.com/user/my-project.git```\n",
    "7. Verify that the remote has been added: ```git remote -v```\n",
    "8. Push the crazy-experiment branch to github: ```git push -u new-remote-repo crazy-experiment```"
   ]
  },
  {
   "cell_type": "markdown",
   "metadata": {},
   "source": [
    "**Difference between adding a remote repository and cloning a repository**\n",
    "\n",
    "```git remote add``` (Linking an existing local repo to a remote)\n",
    "\n",
    "- \"I have an existing local repo\"\n",
    "- \"I want to connect it to a remote repo on Github\"\n",
    "- \"I will manually push my changes to this remote\"\n",
    "\n",
    "*When to use?*\n",
    "\n",
    "- Existing local Git repo with commits\n",
    "- Create a new empty repo on Github and want to link your local repo to it\n",
    "- Add multiple remotes \n",
    "\n",
    "```git clone```(Copying a remote repo to your local machine)\n",
    "\n",
    "- creates a new directory with the same name as the repo\n",
    "- downloads all files, commit history and branches\n",
    "- automatically sets up a remote called origin that points to the GitHub repo\n",
    "\n",
    "*When to use?*\n",
    "\n",
    "- when you don't have the repo on your computer yet\n",
    "- want to download the full repo from GitHub\n",
    "- start from scratch rather than linking an existing project "
   ]
  },
  {
   "cell_type": "markdown",
   "metadata": {},
   "source": [
    "**What is 'rebase'?**\n",
    "\n",
    "Git rebase is an alternative to merge that integrates changes from one branch into another. Unlike merging, which creates a new commit combining histories, rebasing moves the entire branch to a new starting point, making the commit history linear.\n",
    "\n",
    "*When to use rebase?*\n",
    "- To keep a clean, linear history (especially in feature branches)\n",
    "- When you want to update your branch with the latest changes from the ```main``` before merging. \n",
    "- To resolve conflics interactively before integrating changes.\n",
    "\n",
    "*Use cases*\n",
    "1. Basic Git Rebase\n",
    "Imagine you are working on a feature branch (```feature branch```) and ```main``` has been updated. Instead of merging, you want to rebase your work on top of the latest ```main```.\n",
    "\n",
    "Steps\n",
    "- Switch to your feature branch: ```git checkout feature-branch```\n",
    "- Fetch the latest changes from the remote: ```git fetch origin```\n",
    "- Rebase onto the the updated main branch: ```git rebase origin/main```\n",
    "\n",
    "What happens?\n",
    "- Your commits from ```feature-branch``` are temporarily removed.\n",
    "- the latest ```main``` changes are applied first.\n",
    "- Your commits are re-applied on top of the latest ```main```.\n",
    "\n"
   ]
  }
 ],
 "metadata": {
  "language_info": {
   "name": "python"
  }
 },
 "nbformat": 4,
 "nbformat_minor": 2
}
